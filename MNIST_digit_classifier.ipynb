{
  "nbformat": 4,
  "nbformat_minor": 0,
  "metadata": {
    "kernelspec": {
      "display_name": "Python 3",
      "language": "python",
      "name": "python3"
    },
    "language_info": {
      "codemirror_mode": {
        "name": "ipython",
        "version": 3
      },
      "file_extension": ".py",
      "mimetype": "text/x-python",
      "name": "python",
      "nbconvert_exporter": "python",
      "pygments_lexer": "ipython3",
      "version": "3.6.6"
    },
    "colab": {
      "name": "MNIST-digit-classifier.ipynb",
      "version": "0.3.2",
      "provenance": [],
      "collapsed_sections": []
    }
  },
  "cells": [
    {
      "cell_type": "code",
      "metadata": {
        "_cell_guid": "b1076dfc-b9ad-4769-8c92-a6c4dae69d19",
        "_uuid": "8f2839f25d086af736a60e9eeb907d3b93b6e0e5",
        "id": "OuAjCxojuARS",
        "colab_type": "code",
        "colab": {},
        "outputId": "327c0b23-2d49-4bb6-c77c-cef209701bba"
      },
      "source": [
        "# Importing the good old libraries and modules\n",
        "\n",
        "import numpy as np # linear algebra\n",
        "import pandas as pd # data processing, CSV file I/O (e.g. pd.read_csv)\n",
        "from sklearn.preprocessing import OneHotEncoder, StandardScaler\n",
        "from tqdm import tqdm_notebook\n",
        "from sklearn.metrics import accuracy_score, mean_squared_error, log_loss, confusion_matrix\n",
        "import matplotlib.pyplot as plt\n",
        "from sklearn.metrics import confusion_matrix\n",
        "\n",
        "\n",
        "import os\n",
        "print(os.listdir(\"../input\"))"
      ],
      "execution_count": 0,
      "outputs": [
        {
          "output_type": "stream",
          "text": [
            "['digit-recognizer']\n"
          ],
          "name": "stdout"
        }
      ]
    },
    {
      "cell_type": "code",
      "metadata": {
        "id": "pXkge5HcuARl",
        "colab_type": "code",
        "colab": {}
      },
      "source": [
        "# importing just the pytorch modules\n",
        "import torch\n",
        "import torch.nn.functional as F\n",
        "import torch.nn as nn\n",
        "from torch import optim"
      ],
      "execution_count": 0,
      "outputs": []
    },
    {
      "cell_type": "markdown",
      "metadata": {
        "id": "0pshDErouARv",
        "colab_type": "text"
      },
      "source": [
        "**All the optimizers that can be tried for this problem**"
      ]
    },
    {
      "cell_type": "code",
      "metadata": {
        "id": "gABrumuiuARz",
        "colab_type": "code",
        "colab": {},
        "outputId": "945f14a5-d1c5-4e7e-ae3f-39926fc123cb"
      },
      "source": [
        "# For me, the plain vanilla Adam worked just fine\n",
        "help(optim)"
      ],
      "execution_count": 0,
      "outputs": [
        {
          "output_type": "stream",
          "text": [
            "Help on package torch.optim in torch:\n",
            "\n",
            "NAME\n",
            "    torch.optim\n",
            "\n",
            "DESCRIPTION\n",
            "    :mod:`torch.optim` is a package implementing various optimization algorithms.\n",
            "    Most commonly used methods are already supported, and the interface is general\n",
            "    enough, so that more sophisticated ones can be also easily integrated in the\n",
            "    future.\n",
            "\n",
            "PACKAGE CONTENTS\n",
            "    adadelta\n",
            "    adagrad\n",
            "    adam\n",
            "    adamax\n",
            "    adamw\n",
            "    asgd\n",
            "    lbfgs\n",
            "    lr_scheduler\n",
            "    optimizer\n",
            "    rmsprop\n",
            "    rprop\n",
            "    sgd\n",
            "    sparse_adam\n",
            "\n",
            "FILE\n",
            "    /opt/conda/lib/python3.6/site-packages/torch/optim/__init__.py\n",
            "\n",
            "\n"
          ],
          "name": "stdout"
        }
      ]
    },
    {
      "cell_type": "code",
      "metadata": {
        "_cell_guid": "79c7e3d0-c299-4dcb-8224-4455121ee9b0",
        "_uuid": "d629ff2d2480ee46fbb7e2d37f6b5fab8052498a",
        "id": "Y7hFhmanuAR-",
        "colab_type": "code",
        "colab": {}
      },
      "source": [
        "# importing the dataset\n",
        "df=pd.read_csv(\"../input/digit-recognizer/train.csv\")"
      ],
      "execution_count": 0,
      "outputs": []
    },
    {
      "cell_type": "markdown",
      "metadata": {
        "id": "B9EJ8l_muASI",
        "colab_type": "text"
      },
      "source": [
        "****Data Preprocessing****"
      ]
    },
    {
      "cell_type": "code",
      "metadata": {
        "id": "in5BK_MFuASL",
        "colab_type": "code",
        "colab": {}
      },
      "source": [
        "# Converting to numpy array\n",
        "\n",
        "X=df.iloc[:,1:].values\n",
        "Y=df.iloc[:,0].values"
      ],
      "execution_count": 0,
      "outputs": []
    },
    {
      "cell_type": "code",
      "metadata": {
        "id": "AeBoJ748uASV",
        "colab_type": "code",
        "colab": {},
        "outputId": "d3e68a3f-28a3-4056-9146-413504062ba3"
      },
      "source": [
        "# Splitting the dataset into training and testing sets\n",
        "\n",
        "from sklearn.model_selection import train_test_split\n",
        "X_train,X_val,Y_train,Y_val=train_test_split(X,Y,test_size=0.1,stratify=Y,random_state=0)\n",
        "print(X_train.shape,X_val.shape,Y_train.shape,Y_val.shape)"
      ],
      "execution_count": 0,
      "outputs": [
        {
          "output_type": "stream",
          "text": [
            "(37800, 784) (4200, 784) (37800,) (4200,)\n"
          ],
          "name": "stdout"
        }
      ]
    },
    {
      "cell_type": "code",
      "metadata": {
        "id": "fk5kiKLIuASf",
        "colab_type": "code",
        "colab": {}
      },
      "source": [
        "#StandardScaling the data\n",
        "\n",
        "sc = StandardScaler()\n",
        "X_train = sc.fit_transform(X_train)\n",
        "X_val = sc.transform(X_val)"
      ],
      "execution_count": 0,
      "outputs": []
    },
    {
      "cell_type": "code",
      "metadata": {
        "id": "Bdb9m3ItuASo",
        "colab_type": "code",
        "colab": {}
      },
      "source": [
        "# Converting Numpy arrays to Pytorch Tensors after applying scaling\n",
        "\n",
        "X_train,X_val,Y_train,Y_val = map(torch.tensor,(X_train,X_val,Y_train,Y_val))"
      ],
      "execution_count": 0,
      "outputs": []
    },
    {
      "cell_type": "markdown",
      "metadata": {
        "id": "xIPh4iKtuAS9",
        "colab_type": "text"
      },
      "source": [
        "**Creating Feedforward Network class**"
      ]
    },
    {
      "cell_type": "code",
      "metadata": {
        "id": "vcDZaBQ4uAS_",
        "colab_type": "code",
        "colab": {}
      },
      "source": [
        "class FFNetwork(nn.Module):\n",
        "    def __init__(self):\n",
        "        super().__init__()\n",
        "        torch.manual_seed(0)\n",
        "        self.net= nn.Sequential(nn.Linear(784,1024),nn.Sigmoid(),nn.Linear(1024,10),nn.Softmax())\n",
        "        \n",
        "    def forward(self,X):\n",
        "        return self.net(X)"
      ],
      "execution_count": 0,
      "outputs": []
    },
    {
      "cell_type": "code",
      "metadata": {
        "id": "-jPlCzLVuATL",
        "colab_type": "code",
        "colab": {}
      },
      "source": [
        "def accuracy(y_hat, y):\n",
        "  pred = torch.argmax(y_hat, dim=1)\n",
        "  return (pred == y).float().mean()"
      ],
      "execution_count": 0,
      "outputs": []
    },
    {
      "cell_type": "code",
      "metadata": {
        "id": "zdBMG4wYuATU",
        "colab_type": "code",
        "colab": {}
      },
      "source": [
        "def fit(x, y, model, l_r, epochs=1000, mini_batch_size = 1024):\n",
        "    loss_arr=[]\n",
        "    loss_per_epoch=[]\n",
        "    acc_arr=[]\n",
        "    opt=optim.Adam(fn.parameters(),lr= l_r)\n",
        "    m = x.shape[0]\n",
        "    for epochs in range(epochs):\n",
        "        for k in range(0, m, mini_batch_size):\n",
        "            x_mini , y_mini = x[k:k+mini_batch_size], y[k:k+mini_batch_size]\n",
        "            y_hat=fn(x_mini.float())\n",
        "            loss=F.cross_entropy(y_hat, y_mini)\n",
        "            loss_arr.append(loss.item())\n",
        "            acc_arr.append(accuracy(y_hat, y_mini))\n",
        "            loss.backward()\n",
        "            opt.step()\n",
        "            opt.zero_grad()\n",
        "        loss_per_epoch.append(loss.item())\n",
        "    plt.plot(loss_per_epoch, 'r')\n",
        "    plt.show()\n",
        "    print('Loss before training', loss_arr[0])\n",
        "    print('Loss after training', loss_arr[-1])\n",
        "    print('Accuracy', acc_arr[-1])"
      ],
      "execution_count": 0,
      "outputs": []
    },
    {
      "cell_type": "code",
      "metadata": {
        "id": "PWFTsZYxuATe",
        "colab_type": "code",
        "colab": {}
      },
      "source": [
        "#Taking data to GPU\n",
        "device = torch.device(\"cuda\")\n",
        "X_train=X_train.to(device)\n",
        "Y_train=Y_train.to(device)\n",
        "X_val=X_val.to(device)\n",
        "Y_val=Y_val.to(device)"
      ],
      "execution_count": 0,
      "outputs": []
    },
    {
      "cell_type": "code",
      "metadata": {
        "id": "i8Ola_40uATl",
        "colab_type": "code",
        "colab": {},
        "outputId": "fa3e30fd-5e7f-4631-995d-a566d39252aa"
      },
      "source": [
        "X_train.shape[0]"
      ],
      "execution_count": 0,
      "outputs": [
        {
          "output_type": "execute_result",
          "data": {
            "text/plain": [
              "37800"
            ]
          },
          "metadata": {
            "tags": []
          },
          "execution_count": 13
        }
      ]
    },
    {
      "cell_type": "code",
      "metadata": {
        "id": "gLLjRRkvuATx",
        "colab_type": "code",
        "colab": {},
        "outputId": "72b6bf12-4353-4753-8f01-b2b7c818f415"
      },
      "source": [
        "fn = FFNetwork()\n",
        "fn.to(device)\n",
        "#Training on training data\n",
        "fit(X_train, Y_train, fn, l_r= 0.003, epochs=100)\n",
        "print(\"Test accuracy:\",accuracy(fn(X_val.float()), Y_val))"
      ],
      "execution_count": 0,
      "outputs": [
        {
          "output_type": "stream",
          "text": [
            "/opt/conda/lib/python3.6/site-packages/torch/nn/modules/container.py:92: UserWarning: Implicit dimension choice for softmax has been deprecated. Change the call to include dim=X as an argument.\n",
            "  input = module(input)\n"
          ],
          "name": "stderr"
        },
        {
          "output_type": "display_data",
          "data": {
            "image/png": "[encoded data removed]",
            "text/plain": [
              "<Figure size 432x288 with 1 Axes>"
            ]
          },
          "metadata": {
            "tags": [],
            "needs_background": "light"
          }
        },
        {
          "output_type": "stream",
          "text": [
            "Loss before training 2.3045949935913086\n",
            "Loss after training 1.4695910215377808\n",
            "Accuracy tensor(0.9915, device='cuda:0')\n",
            "Test accuracy: tensor(0.9586, device='cuda:0')\n"
          ],
          "name": "stdout"
        }
      ]
    },
    {
      "cell_type": "markdown",
      "metadata": {
        "id": "7eLnNUBmuAT7",
        "colab_type": "text"
      },
      "source": [
        "***Creating Confusion Matrix***"
      ]
    },
    {
      "cell_type": "code",
      "metadata": {
        "id": "zk9C3VTzuAT-",
        "colab_type": "code",
        "colab": {},
        "outputId": "6e1a66f1-9bfd-4d19-e612-b588d0428aa6"
      },
      "source": [
        "Y_pred_val=fn(X_val.float())\n",
        "Y_pred_val = torch.argmax(Y_pred_val, dim=1)\n",
        "cm= confusion_matrix(Y_pred_val.cpu(), Y_val.cpu())\n",
        "print(cm)"
      ],
      "execution_count": 0,
      "outputs": [
        {
          "output_type": "stream",
          "text": [
            "[[399   0   2   0   1   2   3   1   0   0]\n",
            " [  0 460   1   1   1   0   1   3   1   0]\n",
            " [  1   3 388   7   4   0   1   5   1   0]\n",
            " [  1   1   6 406   0   5   0   0   4   5]\n",
            " [  2   2   4   0 394   0   2   3   2   5]\n",
            " [  3   0   3   4   0 365   4   0   4   1]\n",
            " [  4   0   2   1   2   1 401   0   3   0]\n",
            " [  1   2   5   5   0   2   0 424   0   7]\n",
            " [  1   0   6   5   0   4   2   0 389   1]\n",
            " [  1   0   1   6   5   1   0   4   2 400]]\n"
          ],
          "name": "stdout"
        }
      ]
    },
    {
      "cell_type": "code",
      "metadata": {
        "id": "Z30_oup7uAUI",
        "colab_type": "code",
        "colab": {}
      },
      "source": [
        "df_test=pd.read_csv(\"../input/digit-recognizer/test.csv\")\n",
        "X_test=df_test.values\n",
        "X_test=sc.transform(X_test)\n",
        "X_test=torch.from_numpy(X_test).to(device)"
      ],
      "execution_count": 0,
      "outputs": []
    },
    {
      "cell_type": "code",
      "metadata": {
        "id": "ut7A1ENLuAUR",
        "colab_type": "code",
        "colab": {},
        "outputId": "d47643cc-cf6f-4e37-cb7f-12020d8c6687"
      },
      "source": [
        "type(X_test)"
      ],
      "execution_count": 0,
      "outputs": [
        {
          "output_type": "execute_result",
          "data": {
            "text/plain": [
              "torch.Tensor"
            ]
          },
          "metadata": {
            "tags": []
          },
          "execution_count": 17
        }
      ]
    },
    {
      "cell_type": "code",
      "metadata": {
        "id": "ShoKej6guAUc",
        "colab_type": "code",
        "colab": {}
      },
      "source": [
        "Y_pred_test=fn(X_test.float())\n",
        "Y_pred_test = torch.argmax(Y_pred_test, dim=1)\n",
        "\n",
        "submission = {}\n",
        "submission['ImageId'] = np.array(range(1,X_test.shape[0]+1))\n",
        "submission['Label'] = Y_pred_test.cpu()\n",
        "\n",
        "submission = pd.DataFrame(submission)\n",
        "submission = submission[['ImageId', 'Label']]\n",
        "submission = submission.sort_values(['ImageId'])\n",
        "submission.to_csv(\"submisision.csv\", index=False)"
      ],
      "execution_count": 0,
      "outputs": []
    }
  ]
}