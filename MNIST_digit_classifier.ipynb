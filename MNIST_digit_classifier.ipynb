{
  "nbformat": 4,
  "nbformat_minor": 0,
  "metadata": {
    "kernelspec": {
      "display_name": "Python 3",
      "language": "python",
      "name": "python3"
    },
    "language_info": {
      "codemirror_mode": {
        "name": "ipython",
        "version": 3
      },
      "file_extension": ".py",
      "mimetype": "text/x-python",
      "name": "python",
      "nbconvert_exporter": "python",
      "pygments_lexer": "ipython3",
      "version": "3.6.6"
    },
    "colab": {
      "name": "MNIST digit classifier.ipynb",
      "version": "0.3.2",
      "provenance": []
    }
  },
  "cells": [
    {
      "cell_type": "code",
      "metadata": {
        "_cell_guid": "b1076dfc-b9ad-4769-8c92-a6c4dae69d19",
        "_uuid": "8f2839f25d086af736a60e9eeb907d3b93b6e0e5",
        "id": "n5sw_vkRcurq",
        "colab_type": "code",
        "colab": {},
        "outputId": "7217a7c4-3a45-4cd7-bd60-502bbfae5c64"
      },
      "source": [
        "# importing the same old libraries\n",
        "\n",
        "import numpy as np # linear algebra\n",
        "import pandas as pd # data processing, CSV file I/O (e.g. pd.read_csv)\n",
        "from sklearn.preprocessing import OneHotEncoder, StandardScaler\n",
        "from tqdm import tqdm_notebook # Creates Progress bars\n",
        "from sklearn.metrics import accuracy_score, mean_squared_error, log_loss, confusion_matrix\n",
        "import matplotlib.pyplot as plt\n",
        "from sklearn.metrics import confusion_matrix\n",
        "\n",
        "import os\n",
        "print(os.listdir(\"../input\"))"
      ],
      "execution_count": 0,
      "outputs": [
        {
          "output_type": "stream",
          "text": [
            "['digit-recognizer']\n"
          ],
          "name": "stdout"
        }
      ]
    },
    {
      "cell_type": "code",
      "metadata": {
        "id": "HANId8oncusH",
        "colab_type": "code",
        "colab": {}
      },
      "source": [
        "# importing the new libraries , the ones required for implementing pytorch framework in our model\n",
        "\n",
        "import torch\n",
        "import torch.nn.functional as F\n",
        "import torch.nn as nn\n",
        "from torch import optim"
      ],
      "execution_count": 0,
      "outputs": []
    },
    {
      "cell_type": "code",
      "metadata": {
        "_cell_guid": "79c7e3d0-c299-4dcb-8224-4455121ee9b0",
        "_uuid": "d629ff2d2480ee46fbb7e2d37f6b5fab8052498a",
        "id": "xsyYLWFccusY",
        "colab_type": "code",
        "colab": {}
      },
      "source": [
        "# importing the dataset\n",
        "df=pd.read_csv(\"../input/digit-recognizer/train.csv\")"
      ],
      "execution_count": 0,
      "outputs": []
    },
    {
      "cell_type": "code",
      "metadata": {
        "id": "nOzIHAwacusm",
        "colab_type": "code",
        "colab": {},
        "outputId": "b2ef456d-a473-4e70-ae2f-99c47d0f1780"
      },
      "source": [
        "df.shape"
      ],
      "execution_count": 0,
      "outputs": [
        {
          "output_type": "execute_result",
          "data": {
            "text/plain": [
              "(42000, 785)"
            ]
          },
          "metadata": {
            "tags": []
          },
          "execution_count": 4
        }
      ]
    },
    {
      "cell_type": "markdown",
      "metadata": {
        "id": "Ica9VbLBcus8",
        "colab_type": "text"
      },
      "source": [
        "**Data Preprocessing**"
      ]
    },
    {
      "cell_type": "code",
      "metadata": {
        "id": "lm8eFAxFcutE",
        "colab_type": "code",
        "colab": {}
      },
      "source": [
        "# Converting to numpy array\n",
        "X=df.iloc[:,1:].values\n",
        "Y=df.iloc[:,0].values"
      ],
      "execution_count": 0,
      "outputs": []
    },
    {
      "cell_type": "code",
      "metadata": {
        "id": "ErH1beUucutZ",
        "colab_type": "code",
        "colab": {},
        "outputId": "a6f99b7d-eb50-4f9a-cb17-ec086d742565"
      },
      "source": [
        "print(X.shape)\n",
        "print(Y.shape)"
      ],
      "execution_count": 0,
      "outputs": [
        {
          "output_type": "stream",
          "text": [
            "(42000, 784)\n",
            "(42000,)\n"
          ],
          "name": "stdout"
        }
      ]
    },
    {
      "cell_type": "code",
      "metadata": {
        "id": "brR4YUOAcuto",
        "colab_type": "code",
        "colab": {},
        "outputId": "e043e5a4-65ce-4a7e-d20a-748c64441235"
      },
      "source": [
        "df.iloc[:,0].value_counts()"
      ],
      "execution_count": 0,
      "outputs": [
        {
          "output_type": "execute_result",
          "data": {
            "text/plain": [
              "1    4684\n",
              "7    4401\n",
              "3    4351\n",
              "9    4188\n",
              "2    4177\n",
              "6    4137\n",
              "0    4132\n",
              "4    4072\n",
              "8    4063\n",
              "5    3795\n",
              "Name: label, dtype: int64"
            ]
          },
          "metadata": {
            "tags": []
          },
          "execution_count": 7
        }
      ]
    },
    {
      "cell_type": "code",
      "metadata": {
        "id": "g29ovGl5cut4",
        "colab_type": "code",
        "colab": {},
        "outputId": "3dadd5d9-895c-473b-d2ef-ec0d045ef128"
      },
      "source": [
        "# Splitting into Training and Validation datasets \n",
        "\n",
        "from sklearn.model_selection import train_test_split\n",
        "X_train,X_val,Y_train,Y_val=train_test_split(X,Y,test_size=0.2,stratify=Y,random_state=0)\n",
        "print(X_train.shape,X_val.shape,Y_train.shape,Y_val.shape)"
      ],
      "execution_count": 0,
      "outputs": [
        {
          "output_type": "stream",
          "text": [
            "(33600, 784) (8400, 784) (33600,) (8400,)\n"
          ],
          "name": "stdout"
        }
      ]
    },
    {
      "cell_type": "code",
      "metadata": {
        "id": "bdAGPSoxcuuJ",
        "colab_type": "code",
        "colab": {}
      },
      "source": [
        "# StandardScaling the data\n",
        "sc = StandardScaler()\n",
        "X_train = sc.fit_transform(X_train)\n",
        "X_val = sc.transform(X_val)"
      ],
      "execution_count": 0,
      "outputs": []
    },
    {
      "cell_type": "code",
      "metadata": {
        "id": "AJk1_otlcuuS",
        "colab_type": "code",
        "colab": {}
      },
      "source": [
        "# Converting Numpy arrays to Pytorch Tensors after applying scaling\n",
        "X_train,X_val,Y_train,Y_val = map(torch.tensor,(X_train,X_val,Y_train,Y_val))"
      ],
      "execution_count": 0,
      "outputs": []
    },
    {
      "cell_type": "code",
      "metadata": {
        "id": "SI4NGtUAcuuu",
        "colab_type": "code",
        "colab": {},
        "outputId": "8f9088cf-0cba-4b7f-a218-6c0b2fdc59d2"
      },
      "source": [
        "print(type(X_train),type(Y_train),type(X_val),type(Y_val)) # X_train and company are now tensors"
      ],
      "execution_count": 0,
      "outputs": [
        {
          "output_type": "stream",
          "text": [
            "<class 'torch.Tensor'> <class 'torch.Tensor'> <class 'torch.Tensor'> <class 'torch.Tensor'>\n"
          ],
          "name": "stdout"
        }
      ]
    },
    {
      "cell_type": "markdown",
      "metadata": {
        "id": "sNe9Gh_Fcuu-",
        "colab_type": "text"
      },
      "source": [
        "**Writing the class Feedforward Networks**"
      ]
    },
    {
      "cell_type": "code",
      "metadata": {
        "id": "nWa07xJTcuvB",
        "colab_type": "code",
        "colab": {}
      },
      "source": [
        "class FFNetwork(nn.Module):\n",
        "    def __init__(self):\n",
        "        super().__init__()\n",
        "        torch.manual_seed(0)\n",
        "        self.net= nn.Sequential(nn.Linear(784,32),nn.Sigmoid(),nn.Linear(32,16),nn.Sigmoid(),nn.Linear(16,10),nn.Softmax())\n",
        "        \n",
        "    def forward(self,X):\n",
        "        return self.net(X)"
      ],
      "execution_count": 0,
      "outputs": []
    },
    {
      "cell_type": "code",
      "metadata": {
        "id": "JRajyP4vcuvI",
        "colab_type": "code",
        "colab": {}
      },
      "source": [
        "def accuracy(y_hat, y):\n",
        "  pred = torch.argmax(y_hat, dim=1)\n",
        "  return (pred == y).float().mean()"
      ],
      "execution_count": 0,
      "outputs": []
    },
    {
      "cell_type": "code",
      "metadata": {
        "id": "OZwBS65dcuvS",
        "colab_type": "code",
        "colab": {}
      },
      "source": [
        "def fit(x, y, model, l_r, epochs=1000):\n",
        "    loss_arr=[]\n",
        "    acc_arr=[]\n",
        "    opt=optim.Adamax(fn.parameters(),lr= l_r)\n",
        "    for epochs in range(epochs):\n",
        "        y_hat=fn(x.float())\n",
        "        loss=F.cross_entropy(y_hat, y)\n",
        "        loss_arr.append(loss.item())\n",
        "        acc_arr.append(accuracy(y_hat, y))\n",
        "        loss.backward()\n",
        "        opt.step()\n",
        "        opt.zero_grad()\n",
        "    plt.plot(loss_arr, 'r')\n",
        "    plt.plot(acc_arr,'b')\n",
        "    plt.show()\n",
        "    print('Loss before training', loss_arr[0])\n",
        "    print('Loss after training', loss_arr[-1])\n",
        "    print('Accuracy', acc_arr[-1])"
      ],
      "execution_count": 0,
      "outputs": []
    },
    {
      "cell_type": "code",
      "metadata": {
        "id": "CCDhR8Uicuvc",
        "colab_type": "code",
        "colab": {}
      },
      "source": [
        "#Taking data to GPU\n",
        "device = torch.device(\"cuda\")\n",
        "\n",
        "X_train=X_train.to(device)\n",
        "Y_train=Y_train.to(device)\n",
        "X_val=X_val.to(device)\n",
        "Y_val=Y_val.to(device)"
      ],
      "execution_count": 0,
      "outputs": []
    },
    {
      "cell_type": "code",
      "metadata": {
        "id": "5FNguqmCcuvj",
        "colab_type": "code",
        "colab": {},
        "outputId": "f2c4aaf0-8528-46f5-ad7c-1ba660b78869"
      },
      "source": [
        "fn = FFNetwork()\n",
        "fn.to(device)\n",
        "fit(X_train, Y_train, fn, l_r= 0.05, epochs=300)\n",
        "print(\"Test accuracy:\",accuracy(fn(X_val.float()), Y_val))"
      ],
      "execution_count": 0,
      "outputs": [
        {
          "output_type": "stream",
          "text": [
            "/opt/conda/lib/python3.6/site-packages/torch/nn/modules/container.py:92: UserWarning: Implicit dimension choice for softmax has been deprecated. Change the call to include dim=X as an argument.\n",
            "  input = module(input)\n"
          ],
          "name": "stderr"
        },
        {
          "output_type": "display_data",
          "data": {
            "image/png": "[encoded data removed]",
            "text/plain": [
              "<Figure size 432x288 with 1 Axes>"
            ]
          },
          "metadata": {
            "tags": [],
            "needs_background": "light"
          }
        },
        {
          "output_type": "stream",
          "text": [
            "Loss before training 2.3024728298187256\n",
            "Loss after training 1.4908323287963867\n",
            "Accuracy tensor(0.9750, device='cuda:0')\n",
            "Test accuracy: tensor(0.9126, device='cuda:0')\n"
          ],
          "name": "stdout"
        }
      ]
    },
    {
      "cell_type": "markdown",
      "metadata": {
        "id": "e0zgXnxUcuvs",
        "colab_type": "text"
      },
      "source": [
        "**Applying our Model to test data for submission to Kaggle**"
      ]
    },
    {
      "cell_type": "code",
      "metadata": {
        "id": "oLB6ww0ecuvv",
        "colab_type": "code",
        "colab": {}
      },
      "source": [
        "df_test=pd.read_csv(\"../input/digit-recognizer/test.csv\")\n",
        "X_test=df_test.values\n",
        "X_test=sc.transform(X_test)\n",
        "X_test=torch.from_numpy(X_test).to(device)# X_test is now a cuda tensor"
      ],
      "execution_count": 0,
      "outputs": []
    },
    {
      "cell_type": "code",
      "metadata": {
        "id": "9tkFyCNMcuv5",
        "colab_type": "code",
        "colab": {}
      },
      "source": [
        "Y_pred_test=fn(X_test.float())\n",
        "Y_pred_test = torch.argmax(Y_pred_test, dim=1)\n",
        "\n",
        "submission = {}\n",
        "submission['ImageId'] = np.array(range(1,X_test.shape[0]+1))\n",
        "submission['Label'] = Y_pred_test.cpu()\n",
        "\n",
        "submission = pd.DataFrame(submission)\n",
        "submission = submission[['ImageId', 'Label']]\n",
        "submission = submission.sort_values(['ImageId'])\n",
        "submission.to_csv(\"submisision.csv\", index=False)"
      ],
      "execution_count": 0,
      "outputs": []
    }
  ]
}