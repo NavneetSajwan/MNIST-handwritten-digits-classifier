{
  "nbformat": 4,
  "nbformat_minor": 0,
  "metadata": {
    "kernelspec": {
      "display_name": "Python 3",
      "language": "python",
      "name": "python3"
    },
    "language_info": {
      "codemirror_mode": {
        "name": "ipython",
        "version": 3
      },
      "file_extension": ".py",
      "mimetype": "text/x-python",
      "name": "python",
      "nbconvert_exporter": "python",
      "pygments_lexer": "ipython3",
      "version": "3.6.6"
    },
    "widgets": {
      "application/vnd.jupyter.widget-state+json": {
        "state": {
          "0672e2c20bb2494289ebcd01ecd0d669": {
            "model_module": "@jupyter-widgets/base",
            "model_module_version": "1.2.0",
            "model_name": "LayoutModel",
            "state": {
              "_model_module": "@jupyter-widgets/base",
              "_model_module_version": "1.2.0",
              "_model_name": "LayoutModel",
              "_view_count": null,
              "_view_module": "@jupyter-widgets/base",
              "_view_module_version": "1.2.0",
              "_view_name": "LayoutView",
              "align_content": null,
              "align_items": null,
              "align_self": null,
              "border": null,
              "bottom": null,
              "display": null,
              "flex": null,
              "flex_flow": null,
              "grid_area": null,
              "grid_auto_columns": null,
              "grid_auto_flow": null,
              "grid_auto_rows": null,
              "grid_column": null,
              "grid_gap": null,
              "grid_row": null,
              "grid_template_areas": null,
              "grid_template_columns": null,
              "grid_template_rows": null,
              "height": null,
              "justify_content": null,
              "justify_items": null,
              "left": null,
              "margin": null,
              "max_height": null,
              "max_width": null,
              "min_height": null,
              "min_width": null,
              "object_fit": null,
              "object_position": null,
              "order": null,
              "overflow": null,
              "overflow_x": null,
              "overflow_y": null,
              "padding": null,
              "right": null,
              "top": null,
              "visibility": null,
              "width": null
            }
          },
          "1b8dc0f7d2664068a97d295dafd84a34": {
            "model_module": "@jupyter-widgets/base",
            "model_module_version": "1.2.0",
            "model_name": "LayoutModel",
            "state": {
              "_model_module": "@jupyter-widgets/base",
              "_model_module_version": "1.2.0",
              "_model_name": "LayoutModel",
              "_view_count": null,
              "_view_module": "@jupyter-widgets/base",
              "_view_module_version": "1.2.0",
              "_view_name": "LayoutView",
              "align_content": null,
              "align_items": null,
              "align_self": null,
              "border": null,
              "bottom": null,
              "display": null,
              "flex": null,
              "flex_flow": null,
              "grid_area": null,
              "grid_auto_columns": null,
              "grid_auto_flow": null,
              "grid_auto_rows": null,
              "grid_column": null,
              "grid_gap": null,
              "grid_row": null,
              "grid_template_areas": null,
              "grid_template_columns": null,
              "grid_template_rows": null,
              "height": null,
              "justify_content": null,
              "justify_items": null,
              "left": null,
              "margin": null,
              "max_height": null,
              "max_width": null,
              "min_height": null,
              "min_width": null,
              "object_fit": null,
              "object_position": null,
              "order": null,
              "overflow": null,
              "overflow_x": null,
              "overflow_y": null,
              "padding": null,
              "right": null,
              "top": null,
              "visibility": null,
              "width": null
            }
          },
          "1e1939b0b03c462885d48bf7c11c52dd": {
            "model_module": "@jupyter-widgets/controls",
            "model_module_version": "1.5.0",
            "model_name": "DescriptionStyleModel",
            "state": {
              "_model_module": "@jupyter-widgets/controls",
              "_model_module_version": "1.5.0",
              "_model_name": "DescriptionStyleModel",
              "_view_count": null,
              "_view_module": "@jupyter-widgets/base",
              "_view_module_version": "1.2.0",
              "_view_name": "StyleView",
              "description_width": ""
            }
          },
          "3a9fe277c8e54f40ac98554fbcbd2d32": {
            "model_module": "@jupyter-widgets/base",
            "model_module_version": "1.2.0",
            "model_name": "LayoutModel",
            "state": {
              "_model_module": "@jupyter-widgets/base",
              "_model_module_version": "1.2.0",
              "_model_name": "LayoutModel",
              "_view_count": null,
              "_view_module": "@jupyter-widgets/base",
              "_view_module_version": "1.2.0",
              "_view_name": "LayoutView",
              "align_content": null,
              "align_items": null,
              "align_self": null,
              "border": null,
              "bottom": null,
              "display": null,
              "flex": null,
              "flex_flow": null,
              "grid_area": null,
              "grid_auto_columns": null,
              "grid_auto_flow": null,
              "grid_auto_rows": null,
              "grid_column": null,
              "grid_gap": null,
              "grid_row": null,
              "grid_template_areas": null,
              "grid_template_columns": null,
              "grid_template_rows": null,
              "height": null,
              "justify_content": null,
              "justify_items": null,
              "left": null,
              "margin": null,
              "max_height": null,
              "max_width": null,
              "min_height": null,
              "min_width": null,
              "object_fit": null,
              "object_position": null,
              "order": null,
              "overflow": null,
              "overflow_x": null,
              "overflow_y": null,
              "padding": null,
              "right": null,
              "top": null,
              "visibility": null,
              "width": null
            }
          },
          "96d1547cacb84d97b1f3c6dc228a9433": {
            "model_module": "@jupyter-widgets/controls",
            "model_module_version": "1.5.0",
            "model_name": "ProgressStyleModel",
            "state": {
              "_model_module": "@jupyter-widgets/controls",
              "_model_module_version": "1.5.0",
              "_model_name": "ProgressStyleModel",
              "_view_count": null,
              "_view_module": "@jupyter-widgets/base",
              "_view_module_version": "1.2.0",
              "_view_name": "StyleView",
              "bar_color": null,
              "description_width": ""
            }
          },
          "c7d367f2f668480d8dc745e5b12b333a": {
            "model_module": "@jupyter-widgets/controls",
            "model_module_version": "1.5.0",
            "model_name": "HTMLModel",
            "state": {
              "_dom_classes": [],
              "_model_module": "@jupyter-widgets/controls",
              "_model_module_version": "1.5.0",
              "_model_name": "HTMLModel",
              "_view_count": null,
              "_view_module": "@jupyter-widgets/controls",
              "_view_module_version": "1.5.0",
              "_view_name": "HTMLView",
              "description": "",
              "description_tooltip": null,
              "layout": "IPY_MODEL_1b8dc0f7d2664068a97d295dafd84a34",
              "placeholder": "​",
              "style": "IPY_MODEL_1e1939b0b03c462885d48bf7c11c52dd",
              "value": "100% 50/50 [00:20&lt;00:00,  2.45epoch/s]"
            }
          },
          "c99a75bd1d7340a08414a027e6ffc0a6": {
            "model_module": "@jupyter-widgets/controls",
            "model_module_version": "1.5.0",
            "model_name": "HBoxModel",
            "state": {
              "_dom_classes": [],
              "_model_module": "@jupyter-widgets/controls",
              "_model_module_version": "1.5.0",
              "_model_name": "HBoxModel",
              "_view_count": null,
              "_view_module": "@jupyter-widgets/controls",
              "_view_module_version": "1.5.0",
              "_view_name": "HBoxView",
              "box_style": "",
              "children": [
                "IPY_MODEL_fc2548d89e4d409db32f60be1b9fc9ae",
                "IPY_MODEL_c7d367f2f668480d8dc745e5b12b333a"
              ],
              "layout": "IPY_MODEL_3a9fe277c8e54f40ac98554fbcbd2d32"
            }
          },
          "fc2548d89e4d409db32f60be1b9fc9ae": {
            "model_module": "@jupyter-widgets/controls",
            "model_module_version": "1.5.0",
            "model_name": "IntProgressModel",
            "state": {
              "_dom_classes": [],
              "_model_module": "@jupyter-widgets/controls",
              "_model_module_version": "1.5.0",
              "_model_name": "IntProgressModel",
              "_view_count": null,
              "_view_module": "@jupyter-widgets/controls",
              "_view_module_version": "1.5.0",
              "_view_name": "ProgressView",
              "bar_style": "success",
              "description": "",
              "description_tooltip": null,
              "layout": "IPY_MODEL_0672e2c20bb2494289ebcd01ecd0d669",
              "max": 50,
              "min": 0,
              "orientation": "horizontal",
              "style": "IPY_MODEL_96d1547cacb84d97b1f3c6dc228a9433",
              "value": 50
            }
          }
        },
        "version_major": 2,
        "version_minor": 0
      }
    },
    "colab": {
      "name": "MNIST digit classifier v1.0.ipynb",
      "version": "0.3.2",
      "provenance": [],
      "collapsed_sections": []
    }
  },
  "cells": [
    {
      "cell_type": "code",
      "metadata": {
        "_cell_guid": "b1076dfc-b9ad-4769-8c92-a6c4dae69d19",
        "_uuid": "8f2839f25d086af736a60e9eeb907d3b93b6e0e5",
        "id": "OFqIQAL5b7GN",
        "colab_type": "code",
        "colab": {},
        "outputId": "6883681c-1340-4e10-8ab0-5b831bd433a5"
      },
      "source": [
        "#importing the good old libraries\n",
        "\n",
        "import numpy as np # linear algebra\n",
        "import pandas as pd # data processing, CSV file I/O (e.g. pd.read_csv)\n",
        "from sklearn.preprocessing import OneHotEncoder, StandardScaler\n",
        "from tqdm import tqdm_notebook\n",
        "from sklearn.metrics import accuracy_score, mean_squared_error, log_loss, confusion_matrix\n",
        "import matplotlib.pyplot as plt\n",
        "from sklearn.metrics import confusion_matrix\n",
        "\n",
        "\n",
        "import os\n",
        "print(os.listdir(\"../input\"))\n",
        "\n",
        "# Any results you write to the current directory are saved as output."
      ],
      "execution_count": 0,
      "outputs": [
        {
          "output_type": "stream",
          "text": [
            "['sample_submission.csv', 'test.csv', 'train.csv']\n"
          ],
          "name": "stdout"
        }
      ]
    },
    {
      "cell_type": "code",
      "metadata": {
        "_cell_guid": "79c7e3d0-c299-4dcb-8224-4455121ee9b0",
        "_uuid": "d629ff2d2480ee46fbb7e2d37f6b5fab8052498a",
        "id": "-QTRBTFub7Gg",
        "colab_type": "code",
        "colab": {}
      },
      "source": [
        "# importing the dataset\n",
        "df=pd.read_csv(\"../input/train.csv\")"
      ],
      "execution_count": 0,
      "outputs": []
    },
    {
      "cell_type": "code",
      "metadata": {
        "id": "ahsz2hd1b7Gp",
        "colab_type": "code",
        "colab": {},
        "outputId": "f777469a-f5bc-4e40-a615-bd17ced7c2e4"
      },
      "source": [
        "# printing the shape of our dataset\n",
        "df.shape"
      ],
      "execution_count": 0,
      "outputs": [
        {
          "output_type": "execute_result",
          "data": {
            "text/plain": [
              "(42000, 785)"
            ]
          },
          "metadata": {
            "tags": []
          },
          "execution_count": 3
        }
      ]
    },
    {
      "cell_type": "code",
      "metadata": {
        "id": "x_u1oBUAb7Gz",
        "colab_type": "code",
        "colab": {}
      },
      "source": [
        "# Converting to numpy array\n",
        "X=df.iloc[:,1:].values\n",
        "Y=df.iloc[:,0].values"
      ],
      "execution_count": 0,
      "outputs": []
    },
    {
      "cell_type": "code",
      "metadata": {
        "id": "9pUSXxP_b7G7",
        "colab_type": "code",
        "colab": {},
        "outputId": "0747f6c8-7a2f-4620-f1bc-65c410b24b49"
      },
      "source": [
        "print(X.shape)\n",
        "print(Y.shape)"
      ],
      "execution_count": 0,
      "outputs": [
        {
          "output_type": "stream",
          "text": [
            "(42000, 784)\n",
            "(42000,)\n"
          ],
          "name": "stdout"
        }
      ]
    },
    {
      "cell_type": "code",
      "metadata": {
        "id": "_I6of0kXb7HF",
        "colab_type": "code",
        "colab": {},
        "outputId": "717c24b5-382a-4d6f-e363-16e189df089d"
      },
      "source": [
        "df.iloc[:,0].value_counts()"
      ],
      "execution_count": 0,
      "outputs": [
        {
          "output_type": "execute_result",
          "data": {
            "text/plain": [
              "1    4684\n",
              "7    4401\n",
              "3    4351\n",
              "9    4188\n",
              "2    4177\n",
              "6    4137\n",
              "0    4132\n",
              "4    4072\n",
              "8    4063\n",
              "5    3795\n",
              "Name: label, dtype: int64"
            ]
          },
          "metadata": {
            "tags": []
          },
          "execution_count": 6
        }
      ]
    },
    {
      "cell_type": "code",
      "metadata": {
        "id": "3cacc9cpb7HR",
        "colab_type": "code",
        "colab": {},
        "outputId": "f604c9b9-9bc9-47d8-eaf6-7574ad0b306e"
      },
      "source": [
        "# Splitting into Training and Validation datasets \n",
        "\n",
        "from sklearn.model_selection import train_test_split\n",
        "X_train,X_val,Y_train,Y_val=train_test_split(X,Y,test_size=0.2,stratify=Y,random_state=0)\n",
        "print(X_train.shape,X_val.shape,Y_train.shape,Y_val.shape)"
      ],
      "execution_count": 0,
      "outputs": [
        {
          "output_type": "stream",
          "text": [
            "(33600, 784) (8400, 784) (33600,) (8400,)\n"
          ],
          "name": "stdout"
        }
      ]
    },
    {
      "cell_type": "code",
      "metadata": {
        "id": "vUcCErW5b7Ha",
        "colab_type": "code",
        "colab": {},
        "outputId": "49d1eb7a-bc84-4691-be39-ea8b298b4328"
      },
      "source": [
        "# One hot encoding the data\n",
        "\n",
        "OH=OneHotEncoder()\n",
        "Y_OH_train=OH.fit_transform(Y_train.reshape(-1,1)).toarray()\n",
        "Y_OH_val=OH.transform(Y_val.reshape(-1,1)).toarray()"
      ],
      "execution_count": 0,
      "outputs": [
        {
          "output_type": "stream",
          "text": [
            "/opt/conda/lib/python3.6/site-packages/sklearn/preprocessing/_encoders.py:415: FutureWarning: The handling of integer data will change in version 0.22. Currently, the categories are determined based on the range [0, max(values)], while in the future they will be determined based on the unique values.\n",
            "If you want the future behaviour and silence this warning, you can specify \"categories='auto'\".\n",
            "In case you used a LabelEncoder before this OneHotEncoder to convert the categories to integers, then you can now use the OneHotEncoder directly.\n",
            "  warnings.warn(msg, FutureWarning)\n"
          ],
          "name": "stderr"
        }
      ]
    },
    {
      "cell_type": "code",
      "metadata": {
        "id": "J3VtzxpDb7Hj",
        "colab_type": "code",
        "colab": {}
      },
      "source": [
        "#StandardScaling the data\n",
        "\n",
        "sc = StandardScaler()\n",
        "X_train = sc.fit_transform(X_train)\n",
        "X_val = sc.transform(X_val)"
      ],
      "execution_count": 0,
      "outputs": []
    },
    {
      "cell_type": "code",
      "metadata": {
        "id": "owrDdZxtb7Hu",
        "colab_type": "code",
        "colab": {},
        "outputId": "9305f3ab-de2e-432f-c8cc-62932302f26a"
      },
      "source": [
        "print(X_train[:5,:5])"
      ],
      "execution_count": 0,
      "outputs": [
        {
          "output_type": "stream",
          "text": [
            "[[0. 0. 0. 0. 0.]\n",
            " [0. 0. 0. 0. 0.]\n",
            " [0. 0. 0. 0. 0.]\n",
            " [0. 0. 0. 0. 0.]\n",
            " [0. 0. 0. 0. 0.]]\n"
          ],
          "name": "stdout"
        }
      ]
    },
    {
      "cell_type": "code",
      "metadata": {
        "id": "SkhF4Btbb7H6",
        "colab_type": "code",
        "colab": {},
        "outputId": "9f8af04c-9dca-4d99-8bef-ebeb5aaa9f45"
      },
      "source": [
        "print(Y_OH_train.shape)\n",
        "print(Y_OH_val.shape)"
      ],
      "execution_count": 0,
      "outputs": [
        {
          "output_type": "stream",
          "text": [
            "(33600, 10)\n",
            "(8400, 10)\n"
          ],
          "name": "stdout"
        }
      ]
    },
    {
      "cell_type": "markdown",
      "metadata": {
        "id": "iIApb8xuuSui",
        "colab_type": "text"
      },
      "source": [
        "# Creating the Feedforward class"
      ]
    },
    {
      "cell_type": "code",
      "metadata": {
        "id": "VhbaZNxSb7IH",
        "colab_type": "code",
        "colab": {}
      },
      "source": [
        "class FFSN_MultiClass_Generic:\n",
        "  \n",
        "    def __init__(self, n_inputs, n_outputs, hidden_sizes=[3],leaky_slope=0.1):\n",
        "        self.nx = n_inputs\n",
        "        self.ny = n_outputs\n",
        "        self.nh = len(hidden_sizes)\n",
        "        self.sizes = [self.nx] + hidden_sizes + [self.ny] \n",
        "        self.leaky_slope=leaky_slope\n",
        "\n",
        "        self.W = {}\n",
        "        self.B = {}\n",
        "        self.v_w={}\n",
        "        self.m_w={}\n",
        "        self.v_b={}\n",
        "        self.m_b={}\n",
        "        for i in range(self.nh+1):\n",
        "            self.W[i+1] = np.random.randn(self.sizes[i], self.sizes[i+1])/np.sqrt(self.sizes[i])# Xavier Initialization\n",
        "            self.m_w[i+1]=np.zeros((self.sizes[i], self.sizes[i+1]))\n",
        "            self.v_w[i+1]=np.zeros((self.sizes[i], self.sizes[i+1]))\n",
        "            self.B[i+1] = np.zeros((1, self.sizes[i+1]))\n",
        "            self.m_b[i+1] = np.zeros((1, self.sizes[i+1]))\n",
        "            self.v_b[i+1] = np.zeros((1, self.sizes[i+1]))\n",
        "\n",
        "    def sigmoid(self, X):\n",
        "        return 1.0/(1.0 + np.exp(-X))\n",
        "    \n",
        "    def leakyRelu(self,X):\n",
        "        return np.maximum(self.leaky_slope*X,X)\n",
        "\n",
        "    def softmax(self, X):\n",
        "        exps = np.exp(X)\n",
        "        return exps / np.sum(exps,axis=1).reshape(-1,1)\n",
        "\n",
        "    def forward_pass(self, X):\n",
        "        self.A = {}\n",
        "        self.H = {}\n",
        "        self.H[0]=X\n",
        "#         print(\"H[0]:\",X)\n",
        "        for i in range(self.nh):\n",
        "            self.A[i+1] = np.matmul(self.H[i], self.W[i+1]) + self.B[i+1]\n",
        "#             print(\"A[1]:\",self.A[1][:2,:])\n",
        "            self.H[i+1] = self.sigmoid(self.A[i+1])\n",
        "#             print(\"H[1]:\",self.H[1][:2,:])\n",
        "        self.A[self.nh+1] = np.matmul(self.H[self.nh], self.W[self.nh+1]) + self.B[self.nh+1]\n",
        "#         print(\"A[2]:\",self.A[2][:2,:])\n",
        "        self.H[self.nh+1] = self.softmax(self.A[self.nh+1])\n",
        "#         print(\"H[2]:\",self.H[2][:2,:])\n",
        "#         print(\"softmax sum\",np.sum(self.H[2][:2,:],1))\n",
        "#         print(\"y_hat:\",self.H[self.nh+1].shape)\n",
        "        return self.H[self.nh+1]\n",
        "\n",
        "    def predict(self, X):\n",
        "        y_pred = self.forward_pass(X)\n",
        "        return np.array(y_pred).squeeze()\n",
        "\n",
        "    def grad_sigmoid(self, X):\n",
        "        return X*(1-X) \n",
        "    \n",
        "    def grad_Relu(self,X):\n",
        "        return 1*(X>0)\n",
        "    \n",
        "    def grad_leakyRelu(self,X):\n",
        "        d=np.zeros_like(X)\n",
        "        d[d<=0]=self.leaky_slope\n",
        "        d[d>0]=1\n",
        "        return d\n",
        "    \n",
        "    def cross_entropy(self,label,pred):\n",
        "        yl=np.multiply(pred,label)\n",
        "        yl=yl[yl!=0]\n",
        "        yl=-np.log(yl)\n",
        "        yl=np.mean(yl)\n",
        "        return yl\n",
        "\n",
        "    def grad(self, X, Y):\n",
        "        self.forward_pass(X)\n",
        "        self.dW = {}\n",
        "        self.dB = {}\n",
        "        self.dH = {}\n",
        "        self.dA = {}\n",
        "#         self.H[0]=X\n",
        "        L = self.nh + 1\n",
        "        self.dA[L] = (self.H[L] - Y)\n",
        "        for k in range(L, 0, -1):\n",
        "#             print(\"H[\"+str(k-1)+\"]:\",self.H[k-1][:2,:])\n",
        "            self.dW[k] = np.matmul(self.H[k-1].T, self.dA[k])\n",
        "#             print(\"dW[\"+str(k)+\"]:\",self.dW[k][:2,:])\n",
        "            self.dB[k] = np.sum(self.dA[k],axis=0).reshape(1,-1)\n",
        "#             print(\"dB[\"+str(k)+\"]:\",self.dB[k][:2,:])\n",
        "            self.dH[k-1] = np.matmul(self.dA[k], self.W[k].T)#calculating dH[0] unnecessary\n",
        "#             print(\"dH[\"+str(k-1)+\"]:\",self.dH[k-1][:2,:])\n",
        "            self.dA[k-1] = np.multiply(self.dH[k-1], self.grad_sigmoid(self.H[k-1])) \n",
        "#             print(\"dA[\"+str(k-1)+\"]:\",self.dA[k-1][:2,:])\n",
        "            \n",
        "            \n",
        "\n",
        "    def fit(self, X, Y, epochs=100, initialize=True, learning_rate=0.01, display_loss=False, beta1=0.9, beta2=0.9,eps=0.01):\n",
        "\n",
        "        if display_loss:\n",
        "            loss = {}\n",
        "\n",
        "        if initialize:\n",
        "            for i in range(self.nh+1):\n",
        "                self.W[i+1] = np.random.randn(self.sizes[i], self.sizes[i+1])/np.sqrt(self.sizes[i])# Xavier Initialisation\n",
        "                self.B[i+1] = np.zeros((1, self.sizes[i+1]))\n",
        "\n",
        "        for epoch in tqdm_notebook(range(epochs), total=epochs, unit=\"epoch\"):\n",
        "#             print(\"X:\",X.shape)\n",
        "            self.grad(X, Y)\n",
        "            m = X.shape[1]\n",
        "            \n",
        "            num_updates=0\n",
        "            for i in range(self.nh+1):\n",
        "                num_updates+=1\n",
        "                self.m_w[i+1]= beta1 *self.m_w[i+1]+ (1-beta1)* self.dW[i+1]/m\n",
        "                self.v_w[i+1]= beta2 *self.v_w[i+1]+ (1-beta2)* (self.dW[i+1]/m)**2\n",
        "                \n",
        "                m_w_hat=self.m_w[i+1]/(1+np.power(beta1,num_updates))\n",
        "                v_w_hat=self.v_w[i+1]/(1+np.power(beta2,num_updates))\n",
        "                \n",
        "                self.W[i+1] -= (learning_rate/(np.sqrt(v_w_hat)+ eps)) * m_w_hat\n",
        "#                 print(\"W1,2:\",self.W[i+1][:2,:])\n",
        "                \n",
        "                self.m_b[i+1]= beta1 *self.m_b[i+1]+ (1-beta1)* self.dB[i+1]/m\n",
        "                self.v_b[i+1]= beta2 *self.v_b[i+1]+ (1-beta2)* (self.dB[i+1]/m)**2\n",
        "                \n",
        "                m_b_hat=self.m_b[i+1]/(1+np.power(beta1,num_updates))\n",
        "                v_b_hat=self.v_b[i+1]/(1+np.power(beta2,num_updates))\n",
        "                \n",
        "                self.B[i+1] -= (learning_rate/(np.sqrt(v_b_hat)+ eps)) * m_b_hat\n",
        "\n",
        "            if display_loss:\n",
        "                Y_pred = self.predict(X) \n",
        "                loss[epoch] = self.cross_entropy(Y, Y_pred)\n",
        "\n",
        "        if display_loss:\n",
        "          plt.plot(loss.values())\n",
        "          plt.xlabel('Epochs')\n",
        "          plt.ylabel('CE')\n",
        "          plt.show()"
      ],
      "execution_count": 0,
      "outputs": []
    },
    {
      "cell_type": "code",
      "metadata": {
        "id": "r-9s4Y0db7IQ",
        "colab_type": "code",
        "colab": {},
        "outputId": "9f81d2c9-a1a9-4f8f-be14-df2db5ebd24f"
      },
      "source": [
        "Y_OH_train.shape"
      ],
      "execution_count": 0,
      "outputs": [
        {
          "output_type": "execute_result",
          "data": {
            "text/plain": [
              "(33600, 10)"
            ]
          },
          "metadata": {
            "tags": []
          },
          "execution_count": 13
        }
      ]
    },
    {
      "cell_type": "code",
      "metadata": {
        "id": "68doSjc_b7IY",
        "colab_type": "code",
        "colab": {},
        "outputId": "9d78f708-2fc7-40f1-8636-595ceabc4122"
      },
      "source": [
        "X_train.dtype"
      ],
      "execution_count": 0,
      "outputs": [
        {
          "output_type": "execute_result",
          "data": {
            "text/plain": [
              "dtype('float64')"
            ]
          },
          "metadata": {
            "tags": []
          },
          "execution_count": 14
        }
      ]
    },
    {
      "cell_type": "code",
      "metadata": {
        "id": "Q8PljKS8b7Ig",
        "colab_type": "code",
        "colab": {},
        "outputId": "3e62af75-4965-49db-d2e1-5b653e9051c4"
      },
      "source": [
        "X_train.shape"
      ],
      "execution_count": 0,
      "outputs": [
        {
          "output_type": "execute_result",
          "data": {
            "text/plain": [
              "(33600, 784)"
            ]
          },
          "metadata": {
            "tags": []
          },
          "execution_count": 15
        }
      ]
    },
    {
      "cell_type": "markdown",
      "metadata": {
        "id": "OVeHirvZupCR",
        "colab_type": "text"
      },
      "source": [
        "# **Creating the object of our class and calling the fit function**"
      ]
    },
    {
      "cell_type": "code",
      "metadata": {
        "id": "9g2_fUQGb7Iq",
        "colab_type": "code",
        "colab": {},
        "outputId": "378ffef9-e5cf-4160-b874-ac0e779a102e"
      },
      "source": [
        "ff= FFSN_MultiClass_Generic(X_train.shape[1],Y_OH_train.shape[1],[15])\n",
        "ff.fit(X_train, Y_OH_train, epochs=50,learning_rate=0.1,display_loss=True)"
      ],
      "execution_count": 0,
      "outputs": [
        {
          "output_type": "display_data",
          "data": {
            "application/vnd.jupyter.widget-view+json": {
              "model_id": "c99a75bd1d7340a08414a027e6ffc0a6",
              "version_major": 2,
              "version_minor": 0
            },
            "text/plain": [
              "HBox(children=(IntProgress(value=0, max=50), HTML(value='')))"
            ]
          },
          "metadata": {
            "tags": []
          }
        },
        {
          "output_type": "stream",
          "text": [
            "\n"
          ],
          "name": "stdout"
        },
        {
          "output_type": "display_data",
          "data": {
            "image/png": "[encoded data removed]",
            "text/plain": [
              "<Figure size 432x288 with 1 Axes>"
            ]
          },
          "metadata": {
            "tags": [],
            "needs_background": "light"
          }
        }
      ]
    },
    {
      "cell_type": "markdown",
      "metadata": {
        "id": "fmLWs0d9u2FP",
        "colab_type": "text"
      },
      "source": [
        "# **Evaluation**"
      ]
    },
    {
      "cell_type": "code",
      "metadata": {
        "id": "x-Z68PY3b7Iy",
        "colab_type": "code",
        "colab": {},
        "outputId": "43bbcdaa-fe89-4568-d3d8-fa76d9b866d9"
      },
      "source": [
        "Y_pred_train = ff.predict(X_train)\n",
        "print(Y_pred_train.dtype)\n",
        "Y_pred_train = np.argmax(Y_pred_train,1)\n",
        "\n",
        "Y_pred_val = ff.predict(X_val)\n",
        "Y_pred_val = np.argmax(Y_pred_val,1)\n",
        "\n",
        "accuracy_train = accuracy_score(Y_pred_train, Y_train)\n",
        "accuracy_val = accuracy_score(Y_pred_val, Y_val)\n",
        "print(\"Training accuracy\", round(accuracy_train, 2))\n",
        "print(\"Validation accuracy\", round(accuracy_val, 2))"
      ],
      "execution_count": 0,
      "outputs": [
        {
          "output_type": "stream",
          "text": [
            "float64\n",
            "Training accuracy 0.93\n",
            "Validation accuracy 0.9\n"
          ],
          "name": "stdout"
        }
      ]
    },
    {
      "cell_type": "code",
      "metadata": {
        "id": "_ym1bftTb7I8",
        "colab_type": "code",
        "colab": {},
        "outputId": "6a738be3-fb70-4b17-bace-cb11f6b87de7"
      },
      "source": [
        "Y_pred_train.dtype"
      ],
      "execution_count": 0,
      "outputs": [
        {
          "output_type": "execute_result",
          "data": {
            "text/plain": [
              "dtype('int64')"
            ]
          },
          "metadata": {
            "tags": []
          },
          "execution_count": 18
        }
      ]
    },
    {
      "cell_type": "code",
      "metadata": {
        "id": "KkAxlOpBb7JG",
        "colab_type": "code",
        "colab": {},
        "outputId": "c38bd1c7-6ff1-4637-b9f6-58a7cd11abaf"
      },
      "source": [
        "print(ff.H[0].shape, ff.W[1].shape, ff.A[1].shape,ff.H[1].shape,ff.A[2].shape,ff.H[2].shape)"
      ],
      "execution_count": 0,
      "outputs": [
        {
          "output_type": "stream",
          "text": [
            "(8400, 784) (784, 15) (8400, 15) (8400, 15) (8400, 10) (8400, 10)\n"
          ],
          "name": "stdout"
        }
      ]
    },
    {
      "cell_type": "markdown",
      "metadata": {
        "id": "HgrKmYwTu7qJ",
        "colab_type": "text"
      },
      "source": [
        "# **Creating the confusion matrix for better insights**"
      ]
    },
    {
      "cell_type": "code",
      "metadata": {
        "id": "T0DoNyqZb7JO",
        "colab_type": "code",
        "colab": {},
        "outputId": "a9b44681-d733-4f92-c3ad-90a40b52ad5f"
      },
      "source": [
        "cm=confusion_matrix(Y_val,Y_pred_val)\n",
        "cm"
      ],
      "execution_count": 0,
      "outputs": [
        {
          "output_type": "execute_result",
          "data": {
            "text/plain": [
              "array([[786,   0,   5,   2,   4,  13,  11,   1,   4,   0],\n",
              "       [  0, 902,   5,   3,   2,   0,   4,   5,  15,   1],\n",
              "       [  7,   6, 719,  27,  10,   4,  20,  10,  25,   7],\n",
              "       [  3,   2,  40, 746,   2,  28,   0,  17,  22,  10],\n",
              "       [  1,   1,   7,   0, 761,   3,  12,   3,   1,  25],\n",
              "       [ 14,   1,   8,  36,   2, 638,  13,   1,  30,  16],\n",
              "       [ 19,   4,  10,   0,   1,  14, 774,   1,   5,   0],\n",
              "       [  4,   4,  15,   7,  10,   4,   2, 806,   4,  24],\n",
              "       [  8,  13,  18,  14,   7,  38,   5,   6, 684,  20],\n",
              "       [  3,   1,   2,  10,  40,   6,   1,  38,   4, 733]])"
            ]
          },
          "metadata": {
            "tags": []
          },
          "execution_count": 20
        }
      ]
    },
    {
      "cell_type": "markdown",
      "metadata": {
        "id": "i05UYJJNvFwb",
        "colab_type": "text"
      },
      "source": [
        "# **Importing the test data**"
      ]
    },
    {
      "cell_type": "code",
      "metadata": {
        "id": "rUokwnHKb7Jd",
        "colab_type": "code",
        "colab": {}
      },
      "source": [
        "df_test=pd.read_csv(\"../input/test.csv\")\n",
        "X_test=df_test.values\n",
        "X_test=sc.transform(X_test)"
      ],
      "execution_count": 0,
      "outputs": []
    },
    {
      "cell_type": "markdown",
      "metadata": {
        "id": "VpEUABievPCJ",
        "colab_type": "text"
      },
      "source": [
        "# **Applying our model to the test data for submission**"
      ]
    },
    {
      "cell_type": "code",
      "metadata": {
        "id": "By2E7erXb7J6",
        "colab_type": "code",
        "colab": {}
      },
      "source": [
        "Y_pred_test=ff.predict(X_test)\n",
        "Y_pred_test = np.argmax(Y_pred_test,1)\n",
        "\n",
        "submission = {}\n",
        "submission['ImageId'] = np.array(range(1,X_test.shape[0]+1))\n",
        "submission['Label'] = Y_pred_test\n",
        "\n",
        "submission = pd.DataFrame(submission)\n",
        "submission = submission[['ImageId', 'Label']]\n",
        "submission = submission.sort_values(['ImageId'])\n",
        "submission.to_csv(\"submisision.csv\", index=False)"
      ],
      "execution_count": 0,
      "outputs": []
    }
  ]
}